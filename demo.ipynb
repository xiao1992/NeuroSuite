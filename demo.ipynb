{
 "cells": [
  {
   "cell_type": "code",
   "execution_count": null,
   "id": "79c5b46d",
   "metadata": {},
   "outputs": [],
   "source": [
    "# %pip install -e . \n",
    "from neurosuite import EEGPipeline\n",
    "from neurosuite.interpretation import explain_model, plot_shap_topomap"
   ]
  },
  {
   "cell_type": "code",
   "execution_count": null,
   "id": "f7243026",
   "metadata": {},
   "outputs": [],
   "source": [
    "config = {\n",
    "    \"dataset\": \"DEAP\",    
    "    \"model\": \"xgb\",        
    "    \"use_coral\": True\n",
    "}\n",
    "\n",
    "pipeline = EEGPipeline(config=config, cross_subject=True)\n",
    "results = pipeline.run_all()\n",
    "\n",
    "print(\"✅ Pipeline Done\")\n",
    "print(f\"Mean Accuracy: {results['mean_accuracy']:.3f}\")\n",
    "print(f\"CV Scores: {results['cv_scores']}\")"
   ]
  },
  {
   "cell_type": "code",
   "execution_count": null,
   "id": "cad1e92f",
   "metadata": {},
   "outputs": [],
   "source": [

    "model = pipeline.model.model\n",
    "X = pipeline.features\n",
    "y = pipeline.y\n",
    "\n",
    "shap_values = explain_model(model, X, method=\"tree\")\n",
    "\n",

    "ch_names = [f\"Ch{i}\" for i in range(X.shape[1] // 5)]",
    "plot_shap_topomap(shap_values, ch_names, title=\"Top SHAP Importance\")"
   ]
  }
 ],
 "metadata": {
  "language_info": {
   "name": "python"
  }
 },
 "nbformat": 4,
 "nbformat_minor": 5
}

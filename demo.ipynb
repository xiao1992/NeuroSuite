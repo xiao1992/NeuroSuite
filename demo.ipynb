{
 "cells": [
  {
   "cell_type": "code",
   "execution_count": null,
   "id": "cell-1",
   "metadata": {},
   "outputs": [],
   "source": [
    "from neurosuite import EEGPipeline",
    "from neurosuite.interpretation import explain_model, plot_shap_topomap"
   ]
  },
  {
   "cell_type": "code",
   "execution_count": null,
   "id": "cell-2",
   "metadata": {},
   "outputs": [],
   "source": [
    "config = {\n",
    "    \"dataset\": \"DEAP\",\n",
    "    \"model\": \"xgb\",\n",
    "    \"use_coral\": True\n",
    "}\n",
    "pipeline = EEGPipeline(config=config, cross_subject=True)\n",
    "results = pipeline.run_all()\n",
    "print(\"✅ Pipeline Done\")\n",
    "print(f\"Mean Accuracy: {results['mean_accuracy']:.3f}\")\n",
    "print(f\"CV Scores: {results['cv_scores']}\")"
   ]
  },
  {
   "cell_type": "code",
   "execution_count": null,
   "id": "cell-3",
   "metadata": {},
   "outputs": [],
   "source": [
    "model = pipeline.model.model\n",
    "X = pipeline.features\n",
    "y = pipeline.y\n",
    "shap_values = explain_model(model, X, method=\"tree\")\n",
    "ch_names = [f\"Ch{i}\" for i in range(X.shape[1] // 5)]\n",
    "plot_shap_topomap(shap_values, ch_names, title=\"Top SHAP Importance\")"
   ]
  }
 ],
 "metadata": {
  "kernelspec": {
   "display_name": "Python 3",
   "language": "python",
   "name": "python3"
  },
  "language_info": {
   "name": "python",
   "version": "3.9"
  }
 },
 "nbformat": 4,
 "nbformat_minor": 5
}
